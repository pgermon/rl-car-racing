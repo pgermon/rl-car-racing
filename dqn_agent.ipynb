{
 "cells": [
  {
   "cell_type": "code",
   "execution_count": null,
   "metadata": {
    "colab": {
     "base_uri": "https://localhost:8080/"
    },
    "id": "PnQxMTDetqk1",
    "outputId": "972b9502-0677-4b1e-a178-7ebe7e522ef8"
   },
   "outputs": [],
   "source": [
    "!pip install keras-rl2\n",
    "!pip install 'gym[all]'"
   ]
  },
  {
   "cell_type": "code",
   "execution_count": null,
   "metadata": {
    "colab": {
     "base_uri": "https://localhost:8080/"
    },
    "id": "4kiJAUeZR5CT",
    "outputId": "fc1cd70c-48c8-429b-e618-202532847b0c"
   },
   "outputs": [],
   "source": [
    "'''%%bash\n",
    "\n",
    "# install required system dependencies\n",
    "sudo apt-get install -y xvfb x11-utils\n",
    "\n",
    "# install required python dependencies (might need to install additional gym extras depending)\n",
    "pip install gym[box2d]==0.17.* pyvirtualdisplay==0.2.* PyOpenGL==3.1.* PyOpenGL-accelerate==3.1.*'''"
   ]
  },
  {
   "cell_type": "code",
   "execution_count": null,
   "metadata": {
    "id": "_QcJFd7SR6dA"
   },
   "outputs": [],
   "source": [
    "'''import pyvirtualdisplay\n",
    "\n",
    "\n",
    "_display = pyvirtualdisplay.Display(visible=False,  # use False with Xvfb\n",
    "                                    size=(1400, 900))\n",
    "_ = _display.start()'''"
   ]
  },
  {
   "cell_type": "code",
   "execution_count": null,
   "metadata": {
    "id": "9umkJgH0tXxJ"
   },
   "outputs": [],
   "source": [
    "import os\n",
    "import numpy as np\n",
    "\n",
    "import gym\n",
    "from gym.envs.registration import registry, register, make, spec\n",
    "\n",
    "import tensorflow as tf\n",
    "from tensorflow.keras.models import Sequential\n",
    "from tensorflow.keras.layers import Dense, Activation, Flatten, Convolution2D, Permute, Input, Reshape\n",
    "from tensorflow.keras.optimizers import Adam\n",
    "\n",
    "\n",
    "from rl.agents.dqn import DQNAgent\n",
    "from rl.policy import LinearAnnealedPolicy, BoltzmannQPolicy, EpsGreedyQPolicy\n",
    "from rl.memory import SequentialMemory\n",
    "from rl.core import Processor\n",
    "from rl.callbacks import FileLogger, ModelIntervalCheckpoint\n",
    "\n",
    "from car_racing_v1 import *"
   ]
  },
  {
   "cell_type": "code",
   "execution_count": null,
   "metadata": {
    "id": "ROyM0qPHtXxT"
   },
   "outputs": [],
   "source": [
    "register(\n",
    "    id='CarRacing-v1',\n",
    "    entry_point='gym.envs.box2d:CarRacing',\n",
    "    max_episode_steps=2000,\n",
    "    reward_threshold=900,\n",
    ")"
   ]
  },
  {
   "cell_type": "code",
   "execution_count": null,
   "metadata": {
    "colab": {
     "base_uri": "https://localhost:8080/"
    },
    "id": "7WSeAnmktXxV",
    "outputId": "a867d35e-2cdc-40bf-c90a-d4cc19b17fa4"
   },
   "outputs": [],
   "source": [
    "# Get the environment and extract the number of actions.\n",
    "ENV_NAME = 'CarRacing-v1'\n",
    "env = CarRacing()\n",
    "\n",
    "nb_actions = len(env.action_space)\n",
    "input_shape = env.observation_space.shape"
   ]
  },
  {
   "cell_type": "code",
   "execution_count": null,
   "metadata": {
    "colab": {
     "base_uri": "https://localhost:8080/"
    },
    "id": "tgUsfNcttXxX",
    "outputId": "bdf2fd18-58a1-487f-9add-f5d5bf53e115"
   },
   "outputs": [],
   "source": [
    "print(\"nb actions = \", len(env.action_space))\n",
    "print(\"observation_space.shape = \", input_shape)"
   ]
  },
  {
   "cell_type": "code",
   "execution_count": null,
   "metadata": {
    "id": "ZuuGYBCotXxa"
   },
   "outputs": [],
   "source": [
    "def build_model(input_shape, nb_actions):\n",
    "    model = Sequential()\n",
    "    print(input_shape)\n",
    "    \n",
    "    model.add(Reshape(input_shape, input_shape = (1,96,96,3)))\n",
    "    model.add(Convolution2D(32, (8, 8)))\n",
    "    model.add(Activation('relu'))\n",
    "    model.add(Convolution2D(64, (4, 4)))\n",
    "    model.add(Activation('relu'))\n",
    "    model.add(Convolution2D(64, (3, 3)))\n",
    "    model.add(Activation('relu'))\n",
    "    model.add(Flatten())\n",
    "    model.add(Dense(512))\n",
    "    model.add(Activation('relu'))\n",
    "    model.add(Dense(nb_actions))\n",
    "    model.add(Activation('linear'))\n",
    "    \n",
    "    print(model.summary())\n",
    "    return model"
   ]
  },
  {
   "cell_type": "code",
   "execution_count": null,
   "metadata": {
    "colab": {
     "base_uri": "https://localhost:8080/"
    },
    "id": "Jb4miTk6tXxb",
    "outputId": "1440a5b0-51ea-4966-a211-10f7e430eb41"
   },
   "outputs": [],
   "source": [
    "model = build_model(input_shape, nb_actions)"
   ]
  },
  {
   "cell_type": "code",
   "execution_count": null,
   "metadata": {
    "id": "l5yn_wNbtXxd"
   },
   "outputs": [],
   "source": [
    "def build_agent(model, nb_actions):\n",
    "    policy = LinearAnnealedPolicy(EpsGreedyQPolicy(), attr='eps', value_max=1., value_min=.1, value_test=.05, nb_steps=10000)\n",
    "    memory = SequentialMemory(limit=50000, window_length=1)\n",
    "    dqn = DQNAgent(model=model, memory=memory, policy=policy, \n",
    "                  nb_actions=nb_actions, nb_steps_warmup=500, target_model_update=100)\n",
    "    return dqn"
   ]
  },
  {
   "cell_type": "code",
   "execution_count": null,
   "metadata": {
    "id": "OQQLONQVtXxd"
   },
   "outputs": [],
   "source": [
    "dqn = build_agent(model, nb_actions)\n",
    "dqn.compile(Adam(lr=1e-3), metrics=['mae'])"
   ]
  },
  {
   "cell_type": "code",
   "execution_count": null,
   "metadata": {
    "id": "wZ9kIWNftXxf"
   },
   "outputs": [],
   "source": [
    "weights_filename = 'dqn_' + ENV_NAME + '_weights.h5f'\n",
    "checkpoint_weights_filename = 'dqn_' + ENV_NAME + '_weights_{step}.h5f'\n",
    "log_filename = 'dqn_' + ENV_NAME + '_log.json'\n",
    "callbacks = [ModelIntervalCheckpoint(checkpoint_weights_filename, interval=2500)]\n",
    "callbacks += [FileLogger(log_filename, interval=100)]"
   ]
  },
  {
   "cell_type": "code",
   "execution_count": null,
   "metadata": {},
   "outputs": [],
   "source": [
    "if os.path.exists(weights_filename + '.data-00000-of-00001') and os.path.exists(weights_filename + '.index'):\n",
    "    dqn.load_weights(weights_filename)\n",
    "    print('Weights loaded')\n",
    "else:\n",
    "    print('Weights not found')"
   ]
  },
  {
   "cell_type": "code",
   "execution_count": null,
   "metadata": {
    "colab": {
     "base_uri": "https://localhost:8080/"
    },
    "id": "NiTQOrCmtXxf",
    "outputId": "f0ea7a63-e518-4ef7-8ffe-b1dde71d294d",
    "scrolled": true
   },
   "outputs": [],
   "source": [
    "dqn.fit(env, nb_steps=3000, verbose=2, nb_max_episode_steps=200, action_repetition=3, visualize = False)"
   ]
  },
  {
   "cell_type": "code",
   "execution_count": null,
   "metadata": {
    "id": "BcZ97L1stXxg"
   },
   "outputs": [],
   "source": [
    " # After training is done, we save the final weights one more time.\n",
    "dqn.save_weights(weights_filename, overwrite=True)"
   ]
  },
  {
   "cell_type": "code",
   "execution_count": null,
   "metadata": {
    "colab": {
     "base_uri": "https://localhost:8080/"
    },
    "id": "6fieLYJUtXxj",
    "outputId": "4bc7a4ed-d85b-430e-f1c3-cbc177016c0a"
   },
   "outputs": [],
   "source": [
    "# Finally, evaluate our algorithm for 10 episodes.\n",
    "dqn.test(env, nb_episodes=10, visualize=False)"
   ]
  },
  {
   "cell_type": "code",
   "execution_count": null,
   "metadata": {
    "colab": {
     "base_uri": "https://localhost:8080/"
    },
    "id": "fL1CvMfyOXfM",
    "outputId": "418782f2-ed64-4346-cce7-68cd0183f771",
    "scrolled": true
   },
   "outputs": [],
   "source": [
    "for i in range(10):\r\n",
    "  dqn.load_weights(weights_filename)\r\n",
    "  dqn.fit(env, nb_steps=3000, verbose=2, nb_max_episode_steps=200, action_repetition=3, visualize = False)\r\n",
    "  dqn.save_weights(weights_filename, overwrite=True)"
   ]
  }
 ],
 "metadata": {
  "accelerator": "GPU",
  "colab": {
   "name": "dqn_agent.ipynb",
   "provenance": [],
   "toc_visible": true
  },
  "kernelspec": {
   "display_name": "Python 3",
   "language": "python",
   "name": "python3"
  },
  "language_info": {
   "codemirror_mode": {
    "name": "ipython",
    "version": 3
   },
   "file_extension": ".py",
   "mimetype": "text/x-python",
   "name": "python",
   "nbconvert_exporter": "python",
   "pygments_lexer": "ipython3",
   "version": "3.6.12"
  }
 },
 "nbformat": 4,
 "nbformat_minor": 4
}
