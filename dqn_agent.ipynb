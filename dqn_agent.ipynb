{
 "cells": [
  {
   "cell_type": "code",
   "execution_count": 1,
   "metadata": {
    "colab": {
     "base_uri": "https://localhost:8080/"
    },
    "id": "PnQxMTDetqk1",
    "outputId": "972b9502-0677-4b1e-a178-7ebe7e522ef8"
   },
   "outputs": [
    {
     "name": "stdout",
     "output_type": "stream",
     "text": [
      "Requirement already satisfied: keras-rl2 in c:\\users\\lenovo\\appdata\\roaming\\python\\python36\\site-packages (1.0.4)\n",
      "Requirement already satisfied: tensorflow>=2.1.0 in c:\\users\\lenovo\\appdata\\roaming\\python\\python36\\site-packages (from keras-rl2) (2.4.0)\n",
      "Requirement already satisfied: numpy~=1.19.2 in c:\\users\\lenovo\\anaconda3\\envs\\rl\\lib\\site-packages (from tensorflow>=2.1.0->keras-rl2) (1.19.2)\n",
      "Requirement already satisfied: absl-py~=0.10 in c:\\users\\lenovo\\anaconda3\\envs\\rl\\lib\\site-packages (from tensorflow>=2.1.0->keras-rl2) (0.11.0)\n",
      "Requirement already satisfied: tensorboard~=2.4 in c:\\users\\lenovo\\anaconda3\\envs\\rl\\lib\\site-packages (from tensorflow>=2.1.0->keras-rl2) (2.4.0)\n",
      "Requirement already satisfied: astunparse~=1.6.3 in c:\\users\\lenovo\\appdata\\roaming\\python\\python36\\site-packages (from tensorflow>=2.1.0->keras-rl2) (1.6.3)\n",
      "Requirement already satisfied: grpcio~=1.32.0 in c:\\users\\lenovo\\anaconda3\\envs\\rl\\lib\\site-packages (from tensorflow>=2.1.0->keras-rl2) (1.32.0)\n",
      "Requirement already satisfied: keras-preprocessing~=1.1.2 in c:\\users\\lenovo\\appdata\\roaming\\python\\python36\\site-packages (from tensorflow>=2.1.0->keras-rl2) (1.1.2)\n",
      "Requirement already satisfied: google-pasta~=0.2 in c:\\users\\lenovo\\anaconda3\\envs\\rl\\lib\\site-packages (from tensorflow>=2.1.0->keras-rl2) (0.2.0)\n",
      "Requirement already satisfied: opt-einsum~=3.3.0 in c:\\users\\lenovo\\appdata\\roaming\\python\\python36\\site-packages (from tensorflow>=2.1.0->keras-rl2) (3.3.0)\n",
      "Requirement already satisfied: six~=1.15.0 in c:\\users\\lenovo\\anaconda3\\envs\\rl\\lib\\site-packages (from tensorflow>=2.1.0->keras-rl2) (1.15.0)\n",
      "Requirement already satisfied: wheel~=0.35 in c:\\users\\lenovo\\anaconda3\\envs\\rl\\lib\\site-packages (from tensorflow>=2.1.0->keras-rl2) (0.36.2)\n",
      "Requirement already satisfied: wrapt~=1.12.1 in c:\\users\\lenovo\\anaconda3\\envs\\rl\\lib\\site-packages (from tensorflow>=2.1.0->keras-rl2) (1.12.1)\n",
      "Requirement already satisfied: flatbuffers~=1.12.0 in c:\\users\\lenovo\\appdata\\roaming\\python\\python36\\site-packages (from tensorflow>=2.1.0->keras-rl2) (1.12)\n",
      "Requirement already satisfied: h5py~=2.10.0 in c:\\users\\lenovo\\anaconda3\\envs\\rl\\lib\\site-packages (from tensorflow>=2.1.0->keras-rl2) (2.10.0)\n",
      "Requirement already satisfied: termcolor~=1.1.0 in c:\\users\\lenovo\\anaconda3\\envs\\rl\\lib\\site-packages (from tensorflow>=2.1.0->keras-rl2) (1.1.0)\n",
      "Requirement already satisfied: tensorflow-estimator<2.5.0,>=2.4.0rc0 in c:\\users\\lenovo\\anaconda3\\envs\\rl\\lib\\site-packages (from tensorflow>=2.1.0->keras-rl2) (2.4.0)\n",
      "Requirement already satisfied: typing-extensions~=3.7.4 in c:\\users\\lenovo\\anaconda3\\envs\\rl\\lib\\site-packages (from tensorflow>=2.1.0->keras-rl2) (3.7.4.3)\n",
      "Requirement already satisfied: protobuf>=3.9.2 in c:\\users\\lenovo\\anaconda3\\envs\\rl\\lib\\site-packages (from tensorflow>=2.1.0->keras-rl2) (3.13.0)\n",
      "Collecting gast==0.3.3\n",
      "  Using cached gast-0.3.3-py2.py3-none-any.whl (9.7 kB)\n",
      "Requirement already satisfied: setuptools in c:\\users\\lenovo\\anaconda3\\envs\\rl\\lib\\site-packages (from protobuf>=3.9.2->tensorflow>=2.1.0->keras-rl2) (51.0.0.post20201207)\n",
      "Requirement already satisfied: tensorboard-plugin-wit>=1.6.0 in c:\\users\\lenovo\\anaconda3\\envs\\rl\\lib\\site-packages (from tensorboard~=2.4->tensorflow>=2.1.0->keras-rl2) (1.7.0)\n",
      "Requirement already satisfied: google-auth<2,>=1.6.3 in c:\\users\\lenovo\\anaconda3\\envs\\rl\\lib\\site-packages (from tensorboard~=2.4->tensorflow>=2.1.0->keras-rl2) (1.24.0)\n",
      "Requirement already satisfied: google-auth-oauthlib<0.5,>=0.4.1 in c:\\users\\lenovo\\anaconda3\\envs\\rl\\lib\\site-packages (from tensorboard~=2.4->tensorflow>=2.1.0->keras-rl2) (0.4.2)\n",
      "Requirement already satisfied: werkzeug>=0.11.15 in c:\\users\\lenovo\\anaconda3\\envs\\rl\\lib\\site-packages (from tensorboard~=2.4->tensorflow>=2.1.0->keras-rl2) (0.16.1)\n",
      "Requirement already satisfied: markdown>=2.6.8 in c:\\users\\lenovo\\anaconda3\\envs\\rl\\lib\\site-packages (from tensorboard~=2.4->tensorflow>=2.1.0->keras-rl2) (3.3.3)\n",
      "Requirement already satisfied: requests<3,>=2.21.0 in c:\\users\\lenovo\\anaconda3\\envs\\rl\\lib\\site-packages (from tensorboard~=2.4->tensorflow>=2.1.0->keras-rl2) (2.25.1)\n",
      "Requirement already satisfied: rsa<5,>=3.1.4 in c:\\users\\lenovo\\anaconda3\\envs\\rl\\lib\\site-packages (from google-auth<2,>=1.6.3->tensorboard~=2.4->tensorflow>=2.1.0->keras-rl2) (4.6)\n",
      "Requirement already satisfied: cachetools<5.0,>=2.0.0 in c:\\users\\lenovo\\anaconda3\\envs\\rl\\lib\\site-packages (from google-auth<2,>=1.6.3->tensorboard~=2.4->tensorflow>=2.1.0->keras-rl2) (4.2.0)\n",
      "Requirement already satisfied: pyasn1-modules>=0.2.1 in c:\\users\\lenovo\\anaconda3\\envs\\rl\\lib\\site-packages (from google-auth<2,>=1.6.3->tensorboard~=2.4->tensorflow>=2.1.0->keras-rl2) (0.2.8)\n",
      "Requirement already satisfied: requests-oauthlib>=0.7.0 in c:\\users\\lenovo\\anaconda3\\envs\\rl\\lib\\site-packages (from google-auth-oauthlib<0.5,>=0.4.1->tensorboard~=2.4->tensorflow>=2.1.0->keras-rl2) (1.3.0)\n",
      "Requirement already satisfied: importlib-metadata in c:\\users\\lenovo\\anaconda3\\envs\\rl\\lib\\site-packages (from markdown>=2.6.8->tensorboard~=2.4->tensorflow>=2.1.0->keras-rl2) (2.0.0)\n",
      "Requirement already satisfied: pyasn1<0.5.0,>=0.4.6 in c:\\users\\lenovo\\anaconda3\\envs\\rl\\lib\\site-packages (from pyasn1-modules>=0.2.1->google-auth<2,>=1.6.3->tensorboard~=2.4->tensorflow>=2.1.0->keras-rl2) (0.4.8)\n",
      "Requirement already satisfied: chardet<5,>=3.0.2 in c:\\users\\lenovo\\anaconda3\\envs\\rl\\lib\\site-packages (from requests<3,>=2.21.0->tensorboard~=2.4->tensorflow>=2.1.0->keras-rl2) (4.0.0)\n",
      "Requirement already satisfied: idna<3,>=2.5 in c:\\users\\lenovo\\anaconda3\\envs\\rl\\lib\\site-packages (from requests<3,>=2.21.0->tensorboard~=2.4->tensorflow>=2.1.0->keras-rl2) (2.10)\n",
      "Requirement already satisfied: certifi>=2017.4.17 in c:\\users\\lenovo\\anaconda3\\envs\\rl\\lib\\site-packages (from requests<3,>=2.21.0->tensorboard~=2.4->tensorflow>=2.1.0->keras-rl2) (2020.12.5)\n",
      "Requirement already satisfied: urllib3<1.27,>=1.21.1 in c:\\users\\lenovo\\anaconda3\\envs\\rl\\lib\\site-packages (from requests<3,>=2.21.0->tensorboard~=2.4->tensorflow>=2.1.0->keras-rl2) (1.26.2)\n",
      "Requirement already satisfied: oauthlib>=3.0.0 in c:\\users\\lenovo\\anaconda3\\envs\\rl\\lib\\site-packages (from requests-oauthlib>=0.7.0->google-auth-oauthlib<0.5,>=0.4.1->tensorboard~=2.4->tensorflow>=2.1.0->keras-rl2) (3.1.0)\n",
      "Requirement already satisfied: zipp>=0.5 in c:\\users\\lenovo\\anaconda3\\envs\\rl\\lib\\site-packages (from importlib-metadata->markdown>=2.6.8->tensorboard~=2.4->tensorflow>=2.1.0->keras-rl2) (3.4.0)\n",
      "Installing collected packages: gast\n",
      "  Attempting uninstall: gast\n",
      "    Found existing installation: gast 0.2.2\n",
      "    Uninstalling gast-0.2.2:\n",
      "      Successfully uninstalled gast-0.2.2\n",
      "Successfully installed gast-0.3.3\n"
     ]
    },
    {
     "name": "stderr",
     "output_type": "stream",
     "text": [
      "ERROR: Invalid requirement: \"'gym[all]'\"\n"
     ]
    }
   ],
   "source": [
    "!pip install keras-rl2\n",
    "!pip install 'gym[all]'"
   ]
  },
  {
   "cell_type": "code",
   "execution_count": null,
   "metadata": {
    "colab": {
     "base_uri": "https://localhost:8080/"
    },
    "id": "4kiJAUeZR5CT",
    "outputId": "fc1cd70c-48c8-429b-e618-202532847b0c"
   },
   "outputs": [],
   "source": [
    "%%bash\n",
    "\n",
    "# install required system dependencies\n",
    "sudo apt-get install -y xvfb x11-utils\n",
    "\n",
    "# install required python dependencies (might need to install additional gym extras depending)\n",
    "pip install gym[box2d]==0.17.* pyvirtualdisplay==0.2.* PyOpenGL==3.1.* PyOpenGL-accelerate==3.1.*"
   ]
  },
  {
   "cell_type": "code",
   "execution_count": null,
   "metadata": {
    "id": "_QcJFd7SR6dA"
   },
   "outputs": [],
   "source": [
    "import pyvirtualdisplay\n",
    "\n",
    "\n",
    "_display = pyvirtualdisplay.Display(visible=False,  # use False with Xvfb\n",
    "                                    size=(1400, 900))\n",
    "_ = _display.start()"
   ]
  },
  {
   "cell_type": "code",
   "execution_count": null,
   "metadata": {
    "id": "9umkJgH0tXxJ"
   },
   "outputs": [],
   "source": [
    "import numpy as np\n",
    "\n",
    "import gym\n",
    "from gym.envs.registration import registry, register, make, spec\n",
    "\n",
    "import tensorflow as tf\n",
    "from tensorflow.keras.models import Sequential\n",
    "from tensorflow.keras.layers import Dense, Activation, Flatten, Convolution2D, Permute, Input, Reshape\n",
    "from tensorflow.keras.optimizers import Adam\n",
    "\n",
    "\n",
    "from rl.agents.dqn import DQNAgent\n",
    "from rl.policy import LinearAnnealedPolicy, BoltzmannQPolicy, EpsGreedyQPolicy\n",
    "from rl.memory import SequentialMemory\n",
    "from rl.core import Processor\n",
    "from rl.callbacks import FileLogger, ModelIntervalCheckpoint\n",
    "\n",
    "from car_racing_v1 import *"
   ]
  },
  {
   "cell_type": "code",
   "execution_count": null,
   "metadata": {
    "id": "ROyM0qPHtXxT"
   },
   "outputs": [],
   "source": [
    "register(\n",
    "    id='CarRacing-v1',\n",
    "    entry_point='gym.envs.box2d:CarRacing',\n",
    "    max_episode_steps=2000,\n",
    "    reward_threshold=900,\n",
    ")"
   ]
  },
  {
   "cell_type": "code",
   "execution_count": null,
   "metadata": {
    "colab": {
     "base_uri": "https://localhost:8080/"
    },
    "id": "7WSeAnmktXxV",
    "outputId": "a867d35e-2cdc-40bf-c90a-d4cc19b17fa4"
   },
   "outputs": [],
   "source": [
    "# Get the environment and extract the number of actions.\n",
    "ENV_NAME = 'CarRacing-v1'\n",
    "env = CarRacing()\n",
    "\n",
    "nb_actions = len(env.action_space)\n",
    "input_shape = env.observation_space.shape"
   ]
  },
  {
   "cell_type": "code",
   "execution_count": null,
   "metadata": {
    "colab": {
     "base_uri": "https://localhost:8080/"
    },
    "id": "tgUsfNcttXxX",
    "outputId": "bdf2fd18-58a1-487f-9add-f5d5bf53e115"
   },
   "outputs": [],
   "source": [
    "print(\"nb actions = \", len(env.action_space))\n",
    "print(\"observation_space.shape = \", input_shape)"
   ]
  },
  {
   "cell_type": "code",
   "execution_count": null,
   "metadata": {
    "id": "ZuuGYBCotXxa"
   },
   "outputs": [],
   "source": [
    "def build_model(input_shape, nb_actions):\n",
    "    model = Sequential()\n",
    "    print(input_shape)\n",
    "    \n",
    "    model.add(Reshape(input_shape, input_shape = (1,96,96,3)))\n",
    "    model.add(Convolution2D(32, (8, 8)))\n",
    "    model.add(Activation('relu'))\n",
    "    model.add(Convolution2D(64, (4, 4)))\n",
    "    model.add(Activation('relu'))\n",
    "    model.add(Convolution2D(64, (3, 3)))\n",
    "    model.add(Activation('relu'))\n",
    "    model.add(Flatten())\n",
    "    model.add(Dense(512))\n",
    "    model.add(Activation('relu'))\n",
    "    model.add(Dense(nb_actions))\n",
    "    model.add(Activation('linear'))\n",
    "    \n",
    "    \n",
    "    '''model.add(Flatten())\n",
    "    model.add(Dense(24, activation='relu'))\n",
    "    model.add(Dense(24, activation='relu'))\n",
    "    model.add(Dense(nb_actions, activation='linear'))'''\n",
    "    \n",
    "    print(model.summary())\n",
    "    return model"
   ]
  },
  {
   "cell_type": "code",
   "execution_count": null,
   "metadata": {
    "colab": {
     "base_uri": "https://localhost:8080/"
    },
    "id": "Jb4miTk6tXxb",
    "outputId": "1440a5b0-51ea-4966-a211-10f7e430eb41"
   },
   "outputs": [],
   "source": [
    "model = build_model(input_shape, nb_actions)"
   ]
  },
  {
   "cell_type": "code",
   "execution_count": null,
   "metadata": {
    "id": "l5yn_wNbtXxd"
   },
   "outputs": [],
   "source": [
    "def build_agent(model, nb_actions):\n",
    "    policy = LinearAnnealedPolicy(EpsGreedyQPolicy(), attr='eps', value_max=1., value_min=.1, value_test=.05, nb_steps=10000)\n",
    "    memory = SequentialMemory(limit=50000, window_length=1)\n",
    "    dqn = DQNAgent(model=model, memory=memory, policy=policy, \n",
    "                  nb_actions=nb_actions, nb_steps_warmup=500, target_model_update=100)\n",
    "    return dqn"
   ]
  },
  {
   "cell_type": "code",
   "execution_count": null,
   "metadata": {
    "id": "OQQLONQVtXxd"
   },
   "outputs": [],
   "source": [
    "dqn = build_agent(model, nb_actions)\n",
    "dqn.compile(Adam(lr=1e-3), metrics=['mae'])"
   ]
  },
  {
   "cell_type": "code",
   "execution_count": null,
   "metadata": {
    "id": "wZ9kIWNftXxf"
   },
   "outputs": [],
   "source": [
    "weights_filename = 'dqn_' + ENV_NAME + '_weights.h5f'\n",
    "checkpoint_weights_filename = 'dqn_' + ENV_NAME + '_weights_{step}.h5f'\n",
    "log_filename = 'dqn_' + ENV_NAME + '_log.json'\n",
    "callbacks = [ModelIntervalCheckpoint(checkpoint_weights_filename, interval=2500)]\n",
    "callbacks += [FileLogger(log_filename, interval=100)]"
   ]
  },
  {
   "cell_type": "code",
   "execution_count": null,
   "metadata": {
    "colab": {
     "base_uri": "https://localhost:8080/"
    },
    "id": "NiTQOrCmtXxf",
    "outputId": "f0ea7a63-e518-4ef7-8ffe-b1dde71d294d"
   },
   "outputs": [],
   "source": [
    "dqn.fit(env, nb_steps=3000, log_interval=100, verbose=1, nb_max_episode_steps=100, action_repetition=3, visualize = False)"
   ]
  },
  {
   "cell_type": "code",
   "execution_count": null,
   "metadata": {
    "id": "BcZ97L1stXxg"
   },
   "outputs": [],
   "source": [
    " # After training is done, we save the final weights one more time.\n",
    "dqn.save_weights(weights_filename, overwrite=True)"
   ]
  },
  {
   "cell_type": "code",
   "execution_count": null,
   "metadata": {
    "colab": {
     "base_uri": "https://localhost:8080/"
    },
    "id": "6fieLYJUtXxj",
    "outputId": "4bc7a4ed-d85b-430e-f1c3-cbc177016c0a"
   },
   "outputs": [],
   "source": [
    "# Finally, evaluate our algorithm for 10 episodes.\n",
    "dqn.test(env, nb_episodes=10, visualize=False)"
   ]
  }
 ],
 "metadata": {
  "accelerator": "GPU",
  "colab": {
   "name": "dqn_agent.ipynb",
   "provenance": [],
   "toc_visible": true
  },
  "kernelspec": {
   "display_name": "Python 3",
   "language": "python",
   "name": "python3"
  },
  "language_info": {
   "codemirror_mode": {
    "name": "ipython",
    "version": 3
   },
   "file_extension": ".py",
   "mimetype": "text/x-python",
   "name": "python",
   "nbconvert_exporter": "python",
   "pygments_lexer": "ipython3",
   "version": "3.6.12"
  }
 },
 "nbformat": 4,
 "nbformat_minor": 4
}
